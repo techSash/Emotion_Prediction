{
 "cells": [
  {
   "cell_type": "code",
   "execution_count": 1,
   "metadata": {
    "collapsed": true
   },
   "outputs": [],
   "source": [
    "import numpy as np\n",
    "import os\n",
    "import glob\n",
    "\n",
    "import nltk\n",
    "from nltk.tokenize import word_tokenize\n",
    "from nltk.corpus import stopwords\n",
    "import nltk.classify.util\n",
    "from nltk.classify import NaiveBayesClassifier"
   ]
  },
  {
   "cell_type": "code",
   "execution_count": 22,
   "metadata": {},
   "outputs": [
    {
     "data": {
      "text/plain": [
       "{'brown': True, 'jumps': True, 'quick': True, 'the': True}"
      ]
     },
     "execution_count": 22,
     "metadata": {},
     "output_type": "execute_result"
    }
   ],
   "source": [
    "def create_word_features(words):\n",
    "    useful_words = [word.lower() for word in words]\n",
    "    my_dict = dict([(word, True) for word in useful_words])\n",
    "    \n",
    "    return my_dict\n",
    "\n",
    "\n",
    "create_word_features(['the', 'quick', 'brown', 'the', 'jumps' , 'quick'])"
   ]
  },
  {
   "cell_type": "code",
   "execution_count": 3,
   "metadata": {
    "collapsed": true
   },
   "outputs": [],
   "source": [
    "path = \"DATASET/*.txt\"\n",
    "files = glob.glob(path)\n",
    "# happy, sad, sar, angry = [], [], [], []\n",
    "for name in files:\n",
    "    with open(name) as f:\n",
    "        data = f.read()\n",
    "    \n",
    "        if name == 'DATASET/happy.txt':\n",
    "            happy = data.split('\\n')\n",
    "        if name == 'DATASET/sad.txt':\n",
    "            sad = data.split('\\n')\n",
    "        if name == 'DATASET/sarcastic.txt':\n",
    "            sar = data.split('\\n')\n",
    "        if name == 'DATASET/angry.txt':\n",
    "            angry = data.split('\\n')"
   ]
  },
  {
   "cell_type": "code",
   "execution_count": 6,
   "metadata": {},
   "outputs": [],
   "source": [
    "happy_st = []\n",
    "\n",
    "# Write the code to extract the negative reviews here\n",
    "for text in happy:\n",
    "    text = text.replace(\":\", \"\").replace(\")\", \"\").replace(\"(\", \"\").replace(\".\", \"\")    \n",
    "    tokens = word_tokenize(text)\n",
    "    happy_st.append((create_word_features(tokens), 'happy'))"
   ]
  },
  {
   "cell_type": "code",
   "execution_count": 7,
   "metadata": {},
   "outputs": [],
   "source": [
    "sad_st = []\n",
    "\n",
    "for text in sad:\n",
    "    text = text.replace(\":\", \"\").replace(\")\", \"\").replace(\"(\", \"\").replace(\".\", \"\")    \n",
    "    tokens = word_tokenize(text)\n",
    "    sad_st.append((create_word_features(tokens), 'sad'))"
   ]
  },
  {
   "cell_type": "code",
   "execution_count": 8,
   "metadata": {
    "collapsed": true
   },
   "outputs": [],
   "source": [
    "sar_st = []\n",
    "\n",
    "for text in sar:\n",
    "    text = text.replace(\":\", \"\").replace(\")\", \"\").replace(\"(\", \"\").replace(\".\", \"\")    \n",
    "    tokens = word_tokenize(text)\n",
    "    sar_st.append((create_word_features(tokens), 'sarcastic'))"
   ]
  },
  {
   "cell_type": "code",
   "execution_count": 9,
   "metadata": {
    "collapsed": true
   },
   "outputs": [],
   "source": [
    "angry_st = []\n",
    "\n",
    "for text in angry:\n",
    "    text = text.replace(\":\", \"\").replace(\")\", \"\").replace(\"(\", \"\").replace(\".\", \"\")    \n",
    "    tokens = word_tokenize(text)\n",
    "    angry_st.append((create_word_features(tokens), 'angry'))"
   ]
  },
  {
   "cell_type": "code",
   "execution_count": 10,
   "metadata": {
    "collapsed": true
   },
   "outputs": [],
   "source": [
    "train_set = happy_st[:130] + sad_st[:140] + sar_st[:210] + angry_st[:50]\n",
    "test_set = happy_st[130:] + sad_st[140:] + sar_st[210:] + angry_st[50:]"
   ]
  },
  {
   "cell_type": "code",
   "execution_count": 27,
   "metadata": {},
   "outputs": [
    {
     "name": "stdout",
     "output_type": "stream",
     "text": [
      "61.92893401015228\n"
     ]
    }
   ],
   "source": [
    "NBC = NaiveBayesClassifier.train(train_set)\n",
    "\n",
    "accuracy = nltk.classify.util.accuracy(NBC, test_set)\n",
    "\n",
    "print(accuracy * 100)"
   ]
  },
  {
   "cell_type": "code",
   "execution_count": 30,
   "metadata": {},
   "outputs": [
    {
     "name": "stdout",
     "output_type": "stream",
     "text": [
      "{'i': True, 'am': True, 'not': True, 'sad': True}\n",
      "sad\n"
     ]
    }
   ],
   "source": [
    "string = \"I AM not sad\"\n",
    "tokens = word_tokenize(string)\n",
    "tokens = create_word_features(tokens)\n",
    "print(tokens)\n",
    "print(NBC.classify(tokens))"
   ]
  }
 ],
 "metadata": {
  "kernelspec": {
   "display_name": "Python 3",
   "language": "python",
   "name": "python3"
  },
  "language_info": {
   "codemirror_mode": {
    "name": "ipython",
    "version": 3
   },
   "file_extension": ".py",
   "mimetype": "text/x-python",
   "name": "python",
   "nbconvert_exporter": "python",
   "pygments_lexer": "ipython3",
   "version": "3.6.3"
  }
 },
 "nbformat": 4,
 "nbformat_minor": 2
}
